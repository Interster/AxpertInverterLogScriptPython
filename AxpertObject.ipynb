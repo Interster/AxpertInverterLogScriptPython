{
 "cells": [
  {
   "cell_type": "code",
   "execution_count": null,
   "metadata": {},
   "outputs": [],
   "source": [
    "import os\n",
    "import crcmod\n",
    "from binascii import unhexlify\n",
    "\n",
    "\n",
    "def connect():\n",
    "    global file\n",
    "    global fd\n",
    "    # Assumes that the Axpert has a udev rule defined:\n",
    "    file = open('/dev/hidVoltronic', 'r+')\n",
    "    fd = file.fileno()\n",
    "\n",
    "def disconnect():\n",
    "    file.close()\n",
    "\n",
    "def serial_command(command):\n",
    "    print(command)\n",
    "    try:\n",
    "        xmodem_crc_func = crcmod.predefined.mkCrcFun('xmodem')\n",
    "        command_a=command.encode('utf-8')\n",
    "        command_b_0=hex(xmodem_crc_func(command_a)).replace('0x','',1)\n",
    "        # Verwyder \\n, want dit is gereserveerde karakter\n",
    "        # Vervang dit met die hex getal 1 meer as \\n\n",
    "        # Vervang dus 0a met 0b\n",
    "        command_b=unhexlify(command_b_0.replace('0a','0b',1)) \n",
    "        command_c='\\x0d'.encode('utf-8')\n",
    "        \n",
    "        command_crc = command_a + command_b + command_c\n",
    "\n",
    "        os.write(fd, command_crc)\n",
    "\n",
    "        response = b''\n",
    "        timeout_counter = 0\n",
    "        while response.find(b'\\r') < 0:\n",
    "            if timeout_counter > 500:\n",
    "                raise Exception('Read operation timed out')\n",
    "            timeout_counter += 1\n",
    "            try:\n",
    "                response += os.read(fd, 500)\n",
    "            except Exception as e:\n",
    "                # print(\"error reading response...: \" + str(e))\n",
    "                time.sleep(0.01)\n",
    "            #if len(response) > 0 and response[0] != '(' or 'NAKss' in response:\n",
    "            #    raise Exception('NAKss')\n",
    "\n",
    "        response = response.rstrip()\n",
    "        lastI = response.find(b'\\r')\n",
    "        response = response[1:lastI-2]\n",
    "        return response\n",
    "    except Exception as e:\n",
    "        print('error reading inverter...: ' + str(e))\n",
    "        disconnect()\n",
    "        time.sleep(0.1)\n",
    "        connect()\n",
    "        return serial_command(command)\n",
    "    \n",
    "def meet_data():\n",
    "    response = serial_command('QPIGS')\n",
    "    \n",
    "    return response\n",
    "\n",
    "def na_battery():\n",
    "    response = serial_command('POP02')\n",
    "    \n",
    "    return response\n",
    "\n",
    "def na_lynkrag():\n",
    "    response = serial_command('POP00')\n",
    "    \n",
    "    return response"
   ]
  },
  {
   "cell_type": "code",
   "execution_count": 9,
   "metadata": {},
   "outputs": [
    {
     "name": "stdout",
     "output_type": "stream",
     "text": [
      "QPIGS\n",
      "244.2 49.8 244.2 49.8 0390 0299 007 422 52.80 000 066 0049 0000 000.0 00.00 00001 00010101 00 00 00000 010\n"
     ]
    }
   ],
   "source": [
    "connect()\n",
    "response = meet_data()\n",
    "print(response.decode('utf-8'))\n",
    "disconnect()"
   ]
  },
  {
   "cell_type": "code",
   "execution_count": 6,
   "metadata": {},
   "outputs": [],
   "source": [
    "#POP00\n",
    "#POP01\n",
    "#POP02\n",
    "#response = serial_command('QID')\n",
    "#response = serial_command('QVFW')\n",
    "#response = serial_command('QPIRI')\n",
    "#response = serial_command('QFLAG')\n",
    "#response = serial_command('QMOD')\n",
    "#response = serial_command('QPIWS')"
   ]
  }
 ],
 "metadata": {
  "kernelspec": {
   "display_name": "Python 3",
   "language": "python",
   "name": "python3"
  },
  "language_info": {
   "codemirror_mode": {
    "name": "ipython",
    "version": 3
   },
   "file_extension": ".py",
   "mimetype": "text/x-python",
   "name": "python",
   "nbconvert_exporter": "python",
   "pygments_lexer": "ipython3",
   "version": "3.7.3"
  }
 },
 "nbformat": 4,
 "nbformat_minor": 4
}
