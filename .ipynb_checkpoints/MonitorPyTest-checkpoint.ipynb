{
 "cells": [
  {
   "cell_type": "code",
   "execution_count": 1,
   "metadata": {},
   "outputs": [],
   "source": [
    "import time, sys, string\n",
    "import sqlite3\n",
    "import json\n",
    "import datetime\n",
    "import calendar\n",
    "import os\n",
    "import fcntl\n",
    "import re\n",
    "import crcmod\n",
    "from binascii import unhexlify\n",
    "import paho.mqtt.client as mqtt\n",
    "from random import randint\n",
    "\n",
    "def connect():\n",
    "    #global client\n",
    "    #client = mqtt.Client(client_id=os.environ['MQTT_CLIENT_ID'])\n",
    "    #client.connect(os.environ['MQTT_SERVER'])\n",
    "    try:\n",
    "        global file\n",
    "        global fd\n",
    "        file = open('/dev/hidVoltronic', 'r+')\n",
    "        fd = file.fileno()\n",
    "        fl = fcntl.fcntl(fd, fcntl.F_GETFL)\n",
    "        fcntl.fcntl(fd, fcntl.F_SETFL, fl | os.O_NONBLOCK)\n",
    "    except Exception as e:\n",
    "        print('error open file descriptor: ' + str(e))\n",
    "        exit()\n",
    "\n",
    "def disconnect():\n",
    "    file.close()\n",
    "\n",
    "def serial_command(command):\n",
    "    print(command)\n",
    "    try:\n",
    "        xmodem_crc_func = crcmod.predefined.mkCrcFun('xmodem')\n",
    "        # Original command probably worked with earlier python versions\n",
    "        #command_crc = command + unhexlify(hex(xmodem_crc_func(command)).replace('0x','',1)) + '\\x0d'\n",
    "        # Need to encode the commands for at least from python 3.6.\n",
    "        command_a=command.encode('utf-8')\n",
    "        command_b=unhexlify(hex(xmodem_crc_func(command_a)).replace('0x','',1))\n",
    "        command_c='\\x0d'.encode('utf-8')\n",
    "        \n",
    "        command_crc = command_a + command_b + command_c\n",
    "\n",
    "        os.write(fd, command_crc)\n",
    "\n",
    "        response = b''\n",
    "        timeout_counter = 0\n",
    "        while response.find(b'\\r') < 0:\n",
    "            if timeout_counter > 500:\n",
    "                raise Exception('Read operation timed out')\n",
    "            timeout_counter += 1\n",
    "            try:\n",
    "                response += os.read(fd, 500)\n",
    "            except Exception as e:\n",
    "                # print(\"error reading response...: \" + str(e))\n",
    "                time.sleep(0.01)\n",
    "            #if len(response) > 0 and response[0] != '(' or 'NAKss' in response:\n",
    "            #    raise Exception('NAKss')\n",
    "\n",
    "        response = response.rstrip()\n",
    "        lastI = response.find(b'\\r')\n",
    "        response = response[1:lastI-2]\n",
    "        return response\n",
    "    except Exception as e:\n",
    "        print('error reading inverter...: ' + str(e))\n",
    "        disconnect()\n",
    "        time.sleep(0.1)\n",
    "        connect()\n",
    "        return serial_command(command)\n",
    "\n",
    "def get_parallel_data():\n",
    "    #collect data from axpert inverter\n",
    "    try:\n",
    "        data = '{'\n",
    "        response = serial_command('QPGS0')\n",
    "        nums = response.split(' ')\n",
    "        if len(nums) < 27:\n",
    "            return ''\n",
    "\n",
    "        if nums[2] == 'L':\n",
    "            data += '\"Gridmode\":1'\n",
    "        else:\n",
    "            data += '\"Gridmode\":0'\n",
    "        data += ',\"SerialNumber\": ' + str(int(nums[1]))\n",
    "        data += ',\"BatteryChargingCurrent\": ' + str(int(nums[12]))\n",
    "        data += ',\"BatteryDischargeCurrent\": ' + str(int(nums[26]))\n",
    "        data += ',\"TotalChargingCurrent\": ' + str(int(nums[15]))\n",
    "        data += ',\"GridVoltage\": ' + str(float(nums[4]))\n",
    "        data += ',\"GridFrequency\": ' + str(float(nums[5]))\n",
    "        data += ',\"OutputVoltage\": ' + str(float(nums[6]))\n",
    "        data += ',\"OutputFrequency\": ' + str(float(nums[7]))\n",
    "        data += ',\"OutputAparentPower\": ' + str(int(nums[8]))\n",
    "        data += ',\"OutputActivePower\": ' + str(int(nums[9]))\n",
    "        data += ',\"LoadPercentage\": ' + str(int(nums[10]))\n",
    "        data += ',\"BatteryVoltage\": ' + str(float(nums[11]))\n",
    "        data += ',\"BatteryCapacity\": ' + str(float(nums[13]))\n",
    "        data += ',\"PvInputVoltage\": ' + str(float(nums[14]))\n",
    "        data += ',\"TotalAcOutputApparentPower\": ' + str(int(nums[16]))\n",
    "        data += ',\"TotalAcOutputActivePower\": ' + str(int(nums[17]))\n",
    "        data += ',\"TotalAcOutputPercentage\": ' + str(int(nums[18]))\n",
    "        # data += ',\"InverterStatus\": ' + nums[19]\n",
    "        data += ',\"OutputMode\": ' + str(int(nums[20]))\n",
    "        data += ',\"ChargerSourcePriority\": ' + str(int(nums[21]))\n",
    "        data += ',\"MaxChargeCurrent\": ' + str(int(nums[22]))\n",
    "        data += ',\"MaxChargerRange\": ' + str(int(nums[23]))\n",
    "        data += ',\"MaxAcChargerCurrent\": ' + str(int(nums[24]))\n",
    "        data += ',\"PvInputCurrentForBattery\": ' + str(int(nums[25]))\n",
    "        if nums[2] == 'B':\n",
    "            data += ',\"Solarmode\":1'\n",
    "        else:\n",
    "            data += ',\"Solarmode\":0'\n",
    "\n",
    "        data += '}'\n",
    "    except Exception as e:\n",
    "        print('error parsing inverter data...: ' + str(e))\n",
    "        return ''\n",
    "    return data\n",
    "\n",
    "def get_data():\n",
    "    #collect data from axpert inverter\n",
    "    try:\n",
    "        response = serial_command('QPIGS')\n",
    "        nums = response.split(' ')\n",
    "        if len(nums) < 21:\n",
    "            return ''\n",
    "\n",
    "        data = '{'\n",
    "\n",
    "        data += '\"BusVoltage\":' + str(float(nums[7]))\n",
    "        data += ',\"InverterHeatsinkTemperature\":' + str(float(nums[11]))\n",
    "        data += ',\"BatteryVoltageFromScc\":' + str(float(nums[14]))\n",
    "        data += ',\"PvInputCurrent\":' + str(int(nums[12]))\n",
    "        data += ',\"PvInputVoltage\":' + str(float(nums[13]))\n",
    "        data += ',\"PvInputPower\":' + str(int(nums[19]))\n",
    "        data += ',\"BatteryChargingCurrent\": ' + str(int(nums[9]))\n",
    "        data += ',\"BatteryDischargeCurrent\":' + str(int(nums[15]))\n",
    "        data += ',\"DeviceStatus\":\"' + nums[16] + '\"'\n",
    "\n",
    "        data += '}'\n",
    "        return data\n",
    "    except Exception as e:\n",
    "        print('error parsing inverter data...: ' + str(e))\n",
    "        return ''\n",
    "\n",
    "def send_data(data, topic):\n",
    "    try:\n",
    "        client.publish(topic, data)\n",
    "    except Exception as e:\n",
    "        print(\"error sending to emoncms...: \" + str(e))\n",
    "        return 0\n",
    "    return 1"
   ]
  },
  {
   "cell_type": "code",
   "execution_count": 4,
   "metadata": {},
   "outputs": [],
   "source": [
    "import time, sys, string\n",
    "import sqlite3\n",
    "import json\n",
    "import datetime\n",
    "import calendar\n",
    "import os\n",
    "import fcntl\n",
    "import re\n",
    "import crcmod\n",
    "from binascii import unhexlify\n",
    "import paho.mqtt.client as mqtt\n",
    "from random import randint\n",
    "\n",
    "def connect():\n",
    "    global file\n",
    "    global fd\n",
    "    # Assumes that the Axpert has a udev rule defined:\n",
    "    file = open('/dev/hidVoltronic', 'r+')\n",
    "    fd = file.fileno()\n",
    "    print('Maak Axpert oop as leer nommer')\n",
    "    print(fd)\n",
    "\n",
    "def disconnect():\n",
    "    file.close()\n",
    "\n",
    "def serial_command(command):\n",
    "    print(command)\n",
    "    try:\n",
    "        xmodem_crc_func = crcmod.predefined.mkCrcFun('xmodem')\n",
    "        command_a=command.encode('utf-8')\n",
    "        command_b=unhexlify(hex(xmodem_crc_func(command_a)).replace('0x','',1))\n",
    "        command_c='\\x0d'.encode('utf-8')\n",
    "        \n",
    "        command_crc = command_a + command_b + command_c\n",
    "\n",
    "        os.write(fd, command_crc)\n",
    "\n",
    "        response = b''\n",
    "        timeout_counter = 0\n",
    "        while response.find(b'\\r') < 0:\n",
    "            if timeout_counter > 500:\n",
    "                raise Exception('Read operation timed out')\n",
    "            timeout_counter += 1\n",
    "            try:\n",
    "                response += os.read(fd, 500)\n",
    "            except Exception as e:\n",
    "                # print(\"error reading response...: \" + str(e))\n",
    "                time.sleep(0.01)\n",
    "            #if len(response) > 0 and response[0] != '(' or 'NAKss' in response:\n",
    "            #    raise Exception('NAKss')\n",
    "\n",
    "        response = response.rstrip()\n",
    "        lastI = response.find(b'\\r')\n",
    "        response = response[1:lastI-2]\n",
    "        return response\n",
    "    except Exception as e:\n",
    "        print('error reading inverter...: ' + str(e))\n",
    "        disconnect()\n",
    "        time.sleep(0.1)\n",
    "        connect()\n",
    "        return serial_command(command)"
   ]
  },
  {
   "cell_type": "code",
   "execution_count": 50,
   "metadata": {},
   "outputs": [
    {
     "name": "stdout",
     "output_type": "stream",
     "text": [
      "b'QPIGS\\xb7\\xa9\\r'\n",
      "b'050 0000'\n"
     ]
    }
   ],
   "source": [
    "command = 'QPIGS'\n",
    "xmodem_crc_func = crcmod.predefined.mkCrcFun('xmodem')\n",
    "# Original command probably worked with earlier python versions\n",
    "#command_crc = command + unhexlify(hex(xmodem_crc_func(command)).replace('0x','',1)) + '\\x0d'\n",
    "# Need to encode the commands for at least from python 3.6.\n",
    "command_a=command.encode('utf-8')\n",
    "command_b=unhexlify(hex(xmodem_crc_func(command_a)).replace('0x','',1))\n",
    "command_c='\\x0d'.encode('utf-8')\n",
    "\n",
    "command_crc = command_a + command_b + command_c\n",
    "\n",
    "print(command_crc)\n",
    "\n",
    "os.write(fd, command_crc)\n",
    "response = b''\n",
    "\n",
    "import select\n",
    "r, w, e = select.select([ fd ], [], [], 0)\n",
    "if fd in r:\n",
    "    response += os.read(fd, 1000)\n",
    "\n",
    "print(response)"
   ]
  },
  {
   "cell_type": "code",
   "execution_count": 11,
   "metadata": {},
   "outputs": [],
   "source": []
  },
  {
   "cell_type": "code",
   "execution_count": 2,
   "metadata": {},
   "outputs": [
    {
     "name": "stdout",
     "output_type": "stream",
     "text": [
      "42\n",
      "<_io.TextIOWrapper name='/dev/hidVoltronic' mode='r+' encoding='UTF-8'>\n"
     ]
    }
   ],
   "source": [
    "global file\n",
    "global fd\n",
    "#file = open('/dev/hidraw0', 'r+')\n",
    "file = open('/dev/hidVoltronic', 'r+')\n",
    "fd = file.fileno()\n",
    "print(fd)\n",
    "print(file)\n",
    "#os.close(fd)\n"
   ]
  },
  {
   "cell_type": "code",
   "execution_count": 6,
   "metadata": {},
   "outputs": [
    {
     "name": "stdout",
     "output_type": "stream",
     "text": [
      "Maak Axpert oop as leer nommer\n",
      "37\n",
      "QPIGS\n",
      "245.5 49.9 245.5 49.9 0368 0289 007 428 53.20 000 100 0050 0000 000.0 00.00 00001 01010101 00 00 00000 110\n"
     ]
    }
   ],
   "source": [
    "connect()\n",
    "response = serial_command('QPIGS')\n",
    "print(response.decode('utf-8'))\n",
    "disconnect()\n"
   ]
  },
  {
   "cell_type": "code",
   "execution_count": 23,
   "metadata": {},
   "outputs": [
    {
     "name": "stdout",
     "output_type": "stream",
     "text": [
      "QID\n",
      "b'55355535553555'\n",
      "QVFW\n",
      "b'VERFW:00072.70'\n",
      "QPIRI\n",
      "b'230.0 21.7 230.0 50.0 21.7 5000 4000 48.0 46.0 46.0 53.2 53.2 2 10 040 0 0 2 9 01 0 1 48.0 0 1 000'\n",
      "QFLAG\n",
      "b'ExyDabjkuvz'\n",
      "QMOD\n",
      "b'L'\n",
      "QPIWS\n",
      "b'00000000000000000000000000000000'\n"
     ]
    }
   ],
   "source": [
    "response = serial_command('QID')\n",
    "print(response)\n",
    "response = serial_command('QVFW')\n",
    "print(response)\n",
    "response = serial_command('QPIRI')\n",
    "print(response)\n",
    "response = serial_command('QFLAG')\n",
    "print(response)\n",
    "response = serial_command('QMOD')\n",
    "print(response)\n",
    "response = serial_command('QPIWS')\n",
    "print(response)"
   ]
  },
  {
   "cell_type": "code",
   "execution_count": 24,
   "metadata": {},
   "outputs": [
    {
     "name": "stdout",
     "output_type": "stream",
     "text": [
      "QPI\n",
      "b'PI'\n",
      "b'QPI\\xbe\\xac\\r'\n",
      "b'(PI30\\x9a\\x0b\\r'\n"
     ]
    }
   ],
   "source": [
    "# QPI wat nie reg werk nie:\n",
    "response = serial_command('QPI')\n",
    "print(response)\n",
    "\n",
    "# QPI wat reg werk:\n",
    "command = 'QPI'\n",
    "xmodem_crc_func = crcmod.predefined.mkCrcFun('xmodem')\n",
    "\n",
    "command_a=command.encode('utf-8')\n",
    "command_b=unhexlify(hex(xmodem_crc_func(command_a)).replace('0x','',1))\n",
    "command_c='\\x0d'.encode('utf-8')\n",
    "\n",
    "command_crc = command_a + command_b + command_c\n",
    "\n",
    "print(command_crc)\n",
    "\n",
    "os.write(fd, command_crc)\n",
    "print(os.read(fd, 512))\n",
    "#30 for Axpert KS series "
   ]
  },
  {
   "cell_type": "code",
   "execution_count": 55,
   "metadata": {},
   "outputs": [
    {
     "name": "stdout",
     "output_type": "stream",
     "text": [
      "Command a\n",
      "b'POP02'\n",
      "Volle Command crc en newline\n",
      "b'POP02\\xe2\\n\\r'\n",
      "CRC in hex\n",
      "0xe20a\n",
      "CRC in bitstring\n",
      "b'\\xe2\\n'\n",
      "Hier is die inkrementeerde string:\n",
      "b'\\xe2\\x0b'\n",
      "b'(ACK9 \\r\\x00'\n"
     ]
    }
   ],
   "source": [
    "command = 'POP02'\n",
    "\n",
    "xmodem_crc_func = crcmod.predefined.mkCrcFun('xmodem')\n",
    "\n",
    "command_a=command.encode('utf-8')\n",
    "command_b=unhexlify(hex(xmodem_crc_func(command_a)).replace('0x','',1))\n",
    "command_c='\\x0d'.encode('utf-8')\n",
    "\n",
    "command_crc = command_a + command_b + command_c\n",
    "\n",
    "print('Command a')\n",
    "print(command_a)\n",
    "#print(command_b)\n",
    "#print(command_c)\n",
    "print('Volle Command crc en newline')\n",
    "print(command_crc)\n",
    "\n",
    "print('CRC in hex')\n",
    "print((hex(xmodem_crc_func(command_a))))\n",
    "print('CRC in bitstring')\n",
    "print(unhexlify(hex(xmodem_crc_func(command_a)).replace('0x','',1)))\n",
    "\n",
    "# POP02 seems to be an exception.  It causes the CRC to make a reserved character\n",
    "# \\n.  This has to be incremented.\n",
    "print('Hier is die inkrementeerde string:')\n",
    "print(unhexlify('e20b'))\n",
    "\n",
    "# Vir POP00\n",
    "command_crc = b'POP00\\xc2H\\r'\n",
    "# Vir POP02\n",
    "#command_crc = b'POP02\\xe2\\x0b\\r'\n",
    "os.write(fd, command_crc)\n",
    "\n",
    "print(os.read(fd, 512))\n",
    "\n",
    "\n",
    "\n",
    "#b'POP00\\xc2H\\r'\n",
    "#b'POP01\\xd2i\\r'"
   ]
  },
  {
   "cell_type": "code",
   "execution_count": 1,
   "metadata": {},
   "outputs": [
    {
     "ename": "NameError",
     "evalue": "name 'connect' is not defined",
     "output_type": "error",
     "traceback": [
      "\u001b[0;31m---------------------------------------------------------------------------\u001b[0m",
      "\u001b[0;31mNameError\u001b[0m                                 Traceback (most recent call last)",
      "\u001b[0;32m<ipython-input-1-f869cc61c5de>\u001b[0m in \u001b[0;36m<module>\u001b[0;34m\u001b[0m\n\u001b[0;32m----> 1\u001b[0;31m \u001b[0mconnect\u001b[0m\u001b[0;34m(\u001b[0m\u001b[0;34m)\u001b[0m\u001b[0;34m\u001b[0m\u001b[0;34m\u001b[0m\u001b[0m\n\u001b[0m",
      "\u001b[0;31mNameError\u001b[0m: name 'connect' is not defined"
     ]
    }
   ],
   "source": [
    "connect()"
   ]
  },
  {
   "cell_type": "code",
   "execution_count": 3,
   "metadata": {},
   "outputs": [],
   "source": [
    "os.close(fd)"
   ]
  },
  {
   "cell_type": "code",
   "execution_count": 17,
   "metadata": {},
   "outputs": [
    {
     "name": "stdout",
     "output_type": "stream",
     "text": [
      "POP 02\n"
     ]
    },
    {
     "ename": "KeyboardInterrupt",
     "evalue": "",
     "output_type": "error",
     "traceback": [
      "\u001b[0;31m---------------------------------------------------------------------------\u001b[0m",
      "\u001b[0;31mKeyboardInterrupt\u001b[0m                         Traceback (most recent call last)",
      "\u001b[0;32m<ipython-input-17-64a2e58c2ee2>\u001b[0m in \u001b[0;36m<module>\u001b[0;34m\u001b[0m\n\u001b[1;32m      1\u001b[0m \u001b[0;31m# 00 for utility first, 01 for solar first, 02 for SBU priority\u001b[0m\u001b[0;34m\u001b[0m\u001b[0;34m\u001b[0m\u001b[0;34m\u001b[0m\u001b[0m\n\u001b[0;32m----> 2\u001b[0;31m \u001b[0mresponse\u001b[0m \u001b[0;34m=\u001b[0m \u001b[0mserial_command\u001b[0m\u001b[0;34m(\u001b[0m\u001b[0;34m'POP 02'\u001b[0m\u001b[0;34m)\u001b[0m\u001b[0;34m\u001b[0m\u001b[0;34m\u001b[0m\u001b[0m\n\u001b[0m\u001b[1;32m      3\u001b[0m \u001b[0mprint\u001b[0m\u001b[0;34m(\u001b[0m\u001b[0mresponse\u001b[0m\u001b[0;34m)\u001b[0m\u001b[0;34m\u001b[0m\u001b[0;34m\u001b[0m\u001b[0m\n",
      "\u001b[0;32m<ipython-input-2-f723d83d8cc6>\u001b[0m in \u001b[0;36mserial_command\u001b[0;34m(command)\u001b[0m\n\u001b[1;32m     52\u001b[0m             \u001b[0mtimeout_counter\u001b[0m \u001b[0;34m+=\u001b[0m \u001b[0;36m1\u001b[0m\u001b[0;34m\u001b[0m\u001b[0;34m\u001b[0m\u001b[0m\n\u001b[1;32m     53\u001b[0m             \u001b[0;32mtry\u001b[0m\u001b[0;34m:\u001b[0m\u001b[0;34m\u001b[0m\u001b[0;34m\u001b[0m\u001b[0m\n\u001b[0;32m---> 54\u001b[0;31m                 \u001b[0mresponse\u001b[0m \u001b[0;34m+=\u001b[0m \u001b[0mos\u001b[0m\u001b[0;34m.\u001b[0m\u001b[0mread\u001b[0m\u001b[0;34m(\u001b[0m\u001b[0mfd\u001b[0m\u001b[0;34m,\u001b[0m \u001b[0;36m500\u001b[0m\u001b[0;34m)\u001b[0m\u001b[0;34m\u001b[0m\u001b[0;34m\u001b[0m\u001b[0m\n\u001b[0m\u001b[1;32m     55\u001b[0m             \u001b[0;32mexcept\u001b[0m \u001b[0mException\u001b[0m \u001b[0;32mas\u001b[0m \u001b[0me\u001b[0m\u001b[0;34m:\u001b[0m\u001b[0;34m\u001b[0m\u001b[0;34m\u001b[0m\u001b[0m\n\u001b[1;32m     56\u001b[0m                 \u001b[0;31m# print(\"error reading response...: \" + str(e))\u001b[0m\u001b[0;34m\u001b[0m\u001b[0;34m\u001b[0m\u001b[0;34m\u001b[0m\u001b[0m\n",
      "\u001b[0;31mKeyboardInterrupt\u001b[0m: "
     ]
    }
   ],
   "source": [
    "# 00 for utility first, 01 for solar first, 02 for SBU priority \n",
    "xmodem_crc_func = crcmod.predefined.mkCrcFun('xmodem')\n",
    "# Original command probably worked with earlier python versions\n",
    "#command_crc = command + unhexlify(hex(xmodem_crc_func(command)).replace('0x','',1)) + '\\x0d'\n",
    "# Need to encode the commands for at least from python 3.6.\n",
    "command_a=command.encode('utf-8')\n",
    "command_b=unhexlify(hex(xmodem_crc_func(command_a)).replace('0x','',1))\n",
    "command_c='\\x0d'.encode('utf-8')\n",
    "\n",
    "command_crc = command_a + command_b + command_c\n",
    "\n",
    "os.write(fd, command_crc)\n",
    "\n",
    "\n",
    "response = serial_command('POP2')\n",
    "print(response)"
   ]
  },
  {
   "cell_type": "code",
   "execution_count": 6,
   "metadata": {},
   "outputs": [
    {
     "ename": "KeyboardInterrupt",
     "evalue": "",
     "output_type": "error",
     "traceback": [
      "\u001b[0;31m---------------------------------------------------------------------------\u001b[0m",
      "\u001b[0;31mKeyboardInterrupt\u001b[0m                         Traceback (most recent call last)",
      "\u001b[0;32m<ipython-input-6-27fb74fe1dee>\u001b[0m in \u001b[0;36m<module>\u001b[0;34m\u001b[0m\n\u001b[1;32m     13\u001b[0m \u001b[0mos\u001b[0m\u001b[0;34m.\u001b[0m\u001b[0mwrite\u001b[0m\u001b[0;34m(\u001b[0m\u001b[0mfd\u001b[0m\u001b[0;34m,\u001b[0m \u001b[0mcommand_crc\u001b[0m\u001b[0;34m)\u001b[0m\u001b[0;34m\u001b[0m\u001b[0;34m\u001b[0m\u001b[0m\n\u001b[1;32m     14\u001b[0m \u001b[0mresponse\u001b[0m \u001b[0;34m=\u001b[0m \u001b[0;34m''\u001b[0m\u001b[0;34m\u001b[0m\u001b[0;34m\u001b[0m\u001b[0m\n\u001b[0;32m---> 15\u001b[0;31m \u001b[0mresponse\u001b[0m \u001b[0;34m=\u001b[0m \u001b[0mos\u001b[0m\u001b[0;34m.\u001b[0m\u001b[0mread\u001b[0m\u001b[0;34m(\u001b[0m\u001b[0mfd\u001b[0m\u001b[0;34m,\u001b[0m \u001b[0;36m100\u001b[0m\u001b[0;34m)\u001b[0m\u001b[0;34m\u001b[0m\u001b[0;34m\u001b[0m\u001b[0m\n\u001b[0m\u001b[1;32m     16\u001b[0m \u001b[0;34m\u001b[0m\u001b[0m\n\u001b[1;32m     17\u001b[0m \u001b[0;31m#timeout_counter = 0\u001b[0m\u001b[0;34m\u001b[0m\u001b[0;34m\u001b[0m\u001b[0;34m\u001b[0m\u001b[0m\n",
      "\u001b[0;31mKeyboardInterrupt\u001b[0m: "
     ]
    }
   ],
   "source": [
    "command = 'QPIGS'\n",
    "command = 'QID'\n",
    "command = 'QPIGS'\n",
    "\n",
    "xmodem_crc_func = crcmod.predefined.mkCrcFun('xmodem')\n",
    "#command_crc = command + unhexlify(hex(xmodem_crc_func(command)).replace('0x','',1)) + '\\x0d'\n",
    "a=command.encode('utf-8')\n",
    "b=unhexlify(hex(xmodem_crc_func(a)).replace('0x','',1))\n",
    "c='\\x0d'.encode('utf-8')\n",
    "type(a+b+c)\n",
    "command_crc=a+b+c\n",
    "\n",
    "os.write(fd, command_crc)\n",
    "response = ''\n",
    "response = os.read(fd, 100)\n",
    "\n",
    "#timeout_counter = 0\n",
    "#while '\\r' not in response:\n",
    "#    if timeout_counter > 500:\n",
    "#        raise Exception('Read operation timed out')\n",
    "#    timeout_counter += 1\n",
    "#    try:\n",
    "#        response += os.read(fd, 100)\n",
    "#    except Exception as e:\n",
    "#        # print(\"error reading response...: \" + str(e))\n",
    "#        time.sleep(0.01)\n",
    "#    if len(response) > 0 and response[0] != '(' or 'NAKss' in response:\n",
    "#        raise Exception('NAKss')\n",
    "\n",
    "print(response)"
   ]
  },
  {
   "cell_type": "code",
   "execution_count": 7,
   "metadata": {},
   "outputs": [
    {
     "ename": "TypeError",
     "evalue": "must be str, not bytes",
     "output_type": "error",
     "traceback": [
      "\u001b[0;31m---------------------------------------------------------------------------\u001b[0m",
      "\u001b[0;31mTypeError\u001b[0m                                 Traceback (most recent call last)",
      "\u001b[0;32m<ipython-input-7-b098c66134e0>\u001b[0m in \u001b[0;36m<module>\u001b[0;34m\u001b[0m\n\u001b[1;32m      1\u001b[0m \u001b[0;31m# Moet response decode gebruik vir binary string\u001b[0m\u001b[0;34m\u001b[0m\u001b[0;34m\u001b[0m\u001b[0;34m\u001b[0m\u001b[0m\n\u001b[1;32m      2\u001b[0m \u001b[0;31m#print(response.decode(\"utf-8\"))\u001b[0m\u001b[0;34m\u001b[0m\u001b[0;34m\u001b[0m\u001b[0;34m\u001b[0m\u001b[0m\n\u001b[0;32m----> 3\u001b[0;31m \u001b[0mprint\u001b[0m\u001b[0;34m(\u001b[0m\u001b[0mresponse\u001b[0m\u001b[0;34m[\u001b[0m\u001b[0;36m0\u001b[0m\u001b[0;34m:\u001b[0m\u001b[0;36m6\u001b[0m\u001b[0;34m]\u001b[0m\u001b[0;34m.\u001b[0m\u001b[0mfind\u001b[0m\u001b[0;34m(\u001b[0m\u001b[0;34mb'\\r'\u001b[0m\u001b[0;34m)\u001b[0m\u001b[0;34m)\u001b[0m\u001b[0;34m\u001b[0m\u001b[0;34m\u001b[0m\u001b[0m\n\u001b[0m\u001b[1;32m      4\u001b[0m \u001b[0mprint\u001b[0m\u001b[0;34m(\u001b[0m\u001b[0mresponse\u001b[0m\u001b[0;34m[\u001b[0m\u001b[0;36m0\u001b[0m\u001b[0;34m:\u001b[0m\u001b[0;36m6\u001b[0m\u001b[0;34m]\u001b[0m\u001b[0;34m)\u001b[0m\u001b[0;34m\u001b[0m\u001b[0;34m\u001b[0m\u001b[0m\n\u001b[1;32m      5\u001b[0m \u001b[0;31m#disconnect()\u001b[0m\u001b[0;34m\u001b[0m\u001b[0;34m\u001b[0m\u001b[0;34m\u001b[0m\u001b[0m\n",
      "\u001b[0;31mTypeError\u001b[0m: must be str, not bytes"
     ]
    }
   ],
   "source": [
    "# Moet response decode gebruik vir binary string\n",
    "#print(response.decode(\"utf-8\"))\n",
    "print(response[0:6].find(b'\\r'))\n",
    "print(response[0:6])\n",
    "#disconnect()\n",
    "# Dan gebruik die find funksie om die \\r te kry en skryf die while lus hierbo oor.\n",
    "a = b'22'\n",
    "a +=response\n",
    "print(a)"
   ]
  },
  {
   "cell_type": "code",
   "execution_count": 56,
   "metadata": {},
   "outputs": [
    {
     "name": "stdout",
     "output_type": "stream",
     "text": [
      "b'(241.8 50.0 241.8 50.0 0411 0335 008 428 53.20 000 100 0048 0000 000.0 00.00 00001 00010101 00 00 00000 110\\x0b\\xf6\\r\\x00\\x00'\n"
     ]
    }
   ],
   "source": [
    "xmodem_crc_func = crcmod.predefined.mkCrcFun('xmodem')\n",
    "# Original command probably worked with earlier python versions\n",
    "#command_crc = command + unhexlify(hex(xmodem_crc_func(command)).replace('0x','',1)) + '\\x0d'\n",
    "# Need to encode the commands for at least from python 3.6.\n",
    "command_a=command.encode('utf-8')\n",
    "command_b=unhexlify(hex(xmodem_crc_func(command_a)).replace('0x','',1))\n",
    "command_c='\\x0d'.encode('utf-8')\n",
    "\n",
    "command_crc = command_a + command_b + command_c\n",
    "\n",
    "os.write(fd, command_crc)\n",
    "\n",
    "response = b''\n",
    "timeout_counter = 0\n",
    "while response.find(b'\\r') < 0:\n",
    "    if timeout_counter > 500:\n",
    "        raise Exception('Read operation timed out')\n",
    "    timeout_counter += 1\n",
    "    try:\n",
    "        response += os.read(fd, 100)\n",
    "    except Exception as e:\n",
    "        # print(\"error reading response...: \" + str(e))\n",
    "        time.sleep(0.01)\n",
    "    #if len(response) > 0 and response[0] != '(' or 'NAKss' in response:\n",
    "    #    raise Exception('NAKss')\n",
    "\n",
    "print(response)"
   ]
  },
  {
   "cell_type": "code",
   "execution_count": 8,
   "metadata": {},
   "outputs": [
    {
     "ename": "AttributeError",
     "evalue": "'str' object has no attribute 'decode'",
     "output_type": "error",
     "traceback": [
      "\u001b[0;31m---------------------------------------------------------------------------\u001b[0m",
      "\u001b[0;31mAttributeError\u001b[0m                            Traceback (most recent call last)",
      "\u001b[0;32m<ipython-input-8-8e11d9bce19b>\u001b[0m in \u001b[0;36m<module>\u001b[0;34m\u001b[0m\n\u001b[1;32m      1\u001b[0m \u001b[0;31m#response.find(b'\\r')\u001b[0m\u001b[0;34m\u001b[0m\u001b[0;34m\u001b[0m\u001b[0;34m\u001b[0m\u001b[0m\n\u001b[1;32m      2\u001b[0m \u001b[0mlen\u001b[0m\u001b[0;34m(\u001b[0m\u001b[0mresponse\u001b[0m\u001b[0;34m)\u001b[0m\u001b[0;34m\u001b[0m\u001b[0;34m\u001b[0m\u001b[0m\n\u001b[0;32m----> 3\u001b[0;31m \u001b[0mprint\u001b[0m\u001b[0;34m(\u001b[0m\u001b[0mresponse\u001b[0m\u001b[0;34m.\u001b[0m\u001b[0mdecode\u001b[0m\u001b[0;34m(\u001b[0m\u001b[0;34m\"utf-8\"\u001b[0m\u001b[0;34m)\u001b[0m\u001b[0;34m)\u001b[0m\u001b[0;34m\u001b[0m\u001b[0;34m\u001b[0m\u001b[0m\n\u001b[0m\u001b[1;32m      4\u001b[0m \u001b[0muitsetstring\u001b[0m \u001b[0;34m=\u001b[0m \u001b[0mresponse\u001b[0m\u001b[0;34m.\u001b[0m\u001b[0mdecode\u001b[0m\u001b[0;34m(\u001b[0m\u001b[0;34m\"utf-8\"\u001b[0m\u001b[0;34m)\u001b[0m\u001b[0;34m\u001b[0m\u001b[0;34m\u001b[0m\u001b[0m\n\u001b[1;32m      5\u001b[0m \u001b[0;34m\u001b[0m\u001b[0m\n",
      "\u001b[0;31mAttributeError\u001b[0m: 'str' object has no attribute 'decode'"
     ]
    }
   ],
   "source": [
    "#response.find(b'\\r')\n",
    "len(response)\n",
    "print(response.decode(\"utf-8\"))\n",
    "uitsetstring = response.decode(\"utf-8\")\n",
    "\n",
    "nums = uitsetstring.split(' ')\n",
    "\n",
    "data = '{'\n",
    "\n",
    "data += '\"BusVoltage\":' + str(float(nums[7]))\n",
    "data += ',\"InverterHeatsinkTemperature\":' + str(float(nums[11]))\n",
    "data += ',\"BatteryVoltageFromScc\":' + str(float(nums[14]))\n",
    "data += ',\"PvInputCurrent\":' + str(int(nums[12]))\n",
    "data += ',\"PvInputVoltage\":' + str(float(nums[13]))\n",
    "data += ',\"PvInputPower\":' + str(int(nums[19]))\n",
    "data += ',\"BatteryChargingCurrent\": ' + str(int(nums[9]))\n",
    "data += ',\"BatteryDischargeCurrent\":' + str(int(nums[15]))\n",
    "data += ',\"DeviceStatus\":\"' + nums[16] + '\"'\n",
    "\n",
    "data += '}'\n",
    "\n",
    "print(data)\n",
    "\n",
    "# Te doen:  Herskryf die bostaande module dat dit werk vir die opstelling soos dit nou \n",
    "# is met die bytestrings\n",
    "# Skryf uit na 'n leer wat presies dieselfde formaat is as die ruby program.\n",
    "# Maak seker dat die hidraw altyd selfde is.\n",
    "# Kombineer dan met battery log program.\n",
    "# Toets ook om 'n opdrag te stuur aan die inverter soos POP01"
   ]
  },
  {
   "cell_type": "code",
   "execution_count": null,
   "metadata": {},
   "outputs": [],
   "source": []
  }
 ],
 "metadata": {
  "hide_input": false,
  "kernelspec": {
   "display_name": "Python 3",
   "language": "python",
   "name": "python3"
  },
  "language_info": {
   "codemirror_mode": {
    "name": "ipython",
    "version": 3
   },
   "file_extension": ".py",
   "mimetype": "text/x-python",
   "name": "python",
   "nbconvert_exporter": "python",
   "pygments_lexer": "ipython3",
   "version": "3.7.3"
  },
  "toc": {
   "base_numbering": 1,
   "nav_menu": {},
   "number_sections": true,
   "sideBar": true,
   "skip_h1_title": false,
   "title_cell": "Table of Contents",
   "title_sidebar": "Contents",
   "toc_cell": false,
   "toc_position": {},
   "toc_section_display": true,
   "toc_window_display": false
  },
  "varInspector": {
   "cols": {
    "lenName": 16,
    "lenType": 16,
    "lenVar": 40
   },
   "kernels_config": {
    "python": {
     "delete_cmd_postfix": "",
     "delete_cmd_prefix": "del ",
     "library": "var_list.py",
     "varRefreshCmd": "print(var_dic_list())"
    },
    "r": {
     "delete_cmd_postfix": ") ",
     "delete_cmd_prefix": "rm(",
     "library": "var_list.r",
     "varRefreshCmd": "cat(var_dic_list()) "
    }
   },
   "types_to_exclude": [
    "module",
    "function",
    "builtin_function_or_method",
    "instance",
    "_Feature"
   ],
   "window_display": false
  }
 },
 "nbformat": 4,
 "nbformat_minor": 2
}
