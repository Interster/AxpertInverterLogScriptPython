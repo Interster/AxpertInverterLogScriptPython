{
 "cells": [
  {
   "cell_type": "code",
   "execution_count": 3,
   "metadata": {},
   "outputs": [],
   "source": [
    "import time, sys, string\n",
    "import sqlite3\n",
    "import json\n",
    "import datetime\n",
    "import calendar\n",
    "import os\n",
    "import fcntl\n",
    "import re\n",
    "import crcmod\n",
    "from binascii import unhexlify\n",
    "import paho.mqtt.client as mqtt\n",
    "from random import randint\n",
    "\n",
    "def connect():\n",
    "    #global client\n",
    "    #client = mqtt.Client(client_id=os.environ['MQTT_CLIENT_ID'])\n",
    "    #client.connect(os.environ['MQTT_SERVER'])\n",
    "    try:\n",
    "        global file\n",
    "        global fd\n",
    "        file = open('/dev/hidraw1', 'r+')\n",
    "        fd = file.fileno()\n",
    "        fl = fcntl.fcntl(fd, fcntl.F_GETFL)\n",
    "        fcntl.fcntl(fd, fcntl.F_SETFL, fl | os.O_NONBLOCK)\n",
    "    except Exception as e:\n",
    "        print('error open file descriptor: ' + str(e))\n",
    "        exit()\n",
    "\n",
    "def disconnect():\n",
    "    file.close()\n",
    "\n",
    "def serial_command(command):\n",
    "    print(command)\n",
    "    try:\n",
    "        xmodem_crc_func = crcmod.predefined.mkCrcFun('xmodem')\n",
    "        # Original command probably worked with earlier python versions\n",
    "        #command_crc = command + unhexlify(hex(xmodem_crc_func(command)).replace('0x','',1)) + '\\x0d'\n",
    "        # Need to encode the commands for at least from python 3.6.\n",
    "        command_a=command.encode('utf-8')\n",
    "        command_b=unhexlify(hex(xmodem_crc_func(command_a)).replace('0x','',1))\n",
    "        command_c='\\x0d'.encode('utf-8')\n",
    "        \n",
    "        command_crc = command_a + command_b + command_c\n",
    "\n",
    "        os.write(fd, command_crc)\n",
    "\n",
    "        response = b''\n",
    "        timeout_counter = 0\n",
    "        while response.find(b'\\r') < 0:\n",
    "            if timeout_counter > 500:\n",
    "                raise Exception('Read operation timed out')\n",
    "            timeout_counter += 1\n",
    "            try:\n",
    "                response += os.read(fd, 100)\n",
    "            except Exception as e:\n",
    "                # print(\"error reading response...: \" + str(e))\n",
    "                time.sleep(0.01)\n",
    "            #if len(response) > 0 and response[0] != '(' or 'NAKss' in response:\n",
    "            #    raise Exception('NAKss')\n",
    "\n",
    "        response = response.rstrip()\n",
    "        lastI = response.find(b'\\r')\n",
    "        response = response[1:lastI-2]\n",
    "        return response\n",
    "    except Exception as e:\n",
    "        print('error reading inverter...: ' + str(e))\n",
    "        disconnect()\n",
    "        time.sleep(0.1)\n",
    "        connect()\n",
    "        return serial_command(command)\n",
    "\n",
    "def get_parallel_data():\n",
    "    #collect data from axpert inverter\n",
    "    try:\n",
    "        data = '{'\n",
    "        response = serial_command('QPGS0')\n",
    "        nums = response.split(' ')\n",
    "        if len(nums) < 27:\n",
    "            return ''\n",
    "\n",
    "        if nums[2] == 'L':\n",
    "            data += '\"Gridmode\":1'\n",
    "        else:\n",
    "            data += '\"Gridmode\":0'\n",
    "        data += ',\"SerialNumber\": ' + str(int(nums[1]))\n",
    "        data += ',\"BatteryChargingCurrent\": ' + str(int(nums[12]))\n",
    "        data += ',\"BatteryDischargeCurrent\": ' + str(int(nums[26]))\n",
    "        data += ',\"TotalChargingCurrent\": ' + str(int(nums[15]))\n",
    "        data += ',\"GridVoltage\": ' + str(float(nums[4]))\n",
    "        data += ',\"GridFrequency\": ' + str(float(nums[5]))\n",
    "        data += ',\"OutputVoltage\": ' + str(float(nums[6]))\n",
    "        data += ',\"OutputFrequency\": ' + str(float(nums[7]))\n",
    "        data += ',\"OutputAparentPower\": ' + str(int(nums[8]))\n",
    "        data += ',\"OutputActivePower\": ' + str(int(nums[9]))\n",
    "        data += ',\"LoadPercentage\": ' + str(int(nums[10]))\n",
    "        data += ',\"BatteryVoltage\": ' + str(float(nums[11]))\n",
    "        data += ',\"BatteryCapacity\": ' + str(float(nums[13]))\n",
    "        data += ',\"PvInputVoltage\": ' + str(float(nums[14]))\n",
    "        data += ',\"TotalAcOutputApparentPower\": ' + str(int(nums[16]))\n",
    "        data += ',\"TotalAcOutputActivePower\": ' + str(int(nums[17]))\n",
    "        data += ',\"TotalAcOutputPercentage\": ' + str(int(nums[18]))\n",
    "        # data += ',\"InverterStatus\": ' + nums[19]\n",
    "        data += ',\"OutputMode\": ' + str(int(nums[20]))\n",
    "        data += ',\"ChargerSourcePriority\": ' + str(int(nums[21]))\n",
    "        data += ',\"MaxChargeCurrent\": ' + str(int(nums[22]))\n",
    "        data += ',\"MaxChargerRange\": ' + str(int(nums[23]))\n",
    "        data += ',\"MaxAcChargerCurrent\": ' + str(int(nums[24]))\n",
    "        data += ',\"PvInputCurrentForBattery\": ' + str(int(nums[25]))\n",
    "        if nums[2] == 'B':\n",
    "            data += ',\"Solarmode\":1'\n",
    "        else:\n",
    "            data += ',\"Solarmode\":0'\n",
    "\n",
    "        data += '}'\n",
    "    except Exception as e:\n",
    "        print('error parsing inverter data...: ' + str(e))\n",
    "        return ''\n",
    "    return data\n",
    "\n",
    "def get_data():\n",
    "    #collect data from axpert inverter\n",
    "    try:\n",
    "        response = serial_command('QPIGS')\n",
    "        nums = response.split(' ')\n",
    "        if len(nums) < 21:\n",
    "            return ''\n",
    "\n",
    "        data = '{'\n",
    "\n",
    "        data += '\"BusVoltage\":' + str(float(nums[7]))\n",
    "        data += ',\"InverterHeatsinkTemperature\":' + str(float(nums[11]))\n",
    "        data += ',\"BatteryVoltageFromScc\":' + str(float(nums[14]))\n",
    "        data += ',\"PvInputCurrent\":' + str(int(nums[12]))\n",
    "        data += ',\"PvInputVoltage\":' + str(float(nums[13]))\n",
    "        data += ',\"PvInputPower\":' + str(int(nums[19]))\n",
    "        data += ',\"BatteryChargingCurrent\": ' + str(int(nums[9]))\n",
    "        data += ',\"BatteryDischargeCurrent\":' + str(int(nums[15]))\n",
    "        data += ',\"DeviceStatus\":\"' + nums[16] + '\"'\n",
    "\n",
    "        data += '}'\n",
    "        return data\n",
    "    except Exception as e:\n",
    "        print('error parsing inverter data...: ' + str(e))\n",
    "        return ''\n",
    "\n",
    "def send_data(data, topic):\n",
    "    try:\n",
    "        client.publish(topic, data)\n",
    "    except Exception as e:\n",
    "        print(\"error sending to emoncms...: \" + str(e))\n",
    "        return 0\n",
    "    return 1"
   ]
  },
  {
   "cell_type": "code",
   "execution_count": 8,
   "metadata": {},
   "outputs": [],
   "source": [
    "global file\n",
    "global fd\n",
    "#file = open('/dev/hidraw1', 'r+')\n",
    "file = open('/dev/hidVoltronic', 'r+')\n",
    "fd = file.fileno()\n",
    "\n"
   ]
  },
  {
   "cell_type": "code",
   "execution_count": 9,
   "metadata": {},
   "outputs": [
    {
     "name": "stdout",
     "output_type": "stream",
     "text": [
      "QPIGS\n",
      "b'242.3 50.0 229.5 50.0 0596 0455 011 398 50.10 001 039 0036 0012 117.8 50.16 00000 01110110 00 00 00627 010'\n",
      "QPIGS\n",
      "error parsing inverter data...: a bytes-like object is required, not 'str'\n"
     ]
    },
    {
     "data": {
      "text/plain": [
       "''"
      ]
     },
     "execution_count": 9,
     "metadata": {},
     "output_type": "execute_result"
    }
   ],
   "source": [
    "response = serial_command('QPIGS')\n",
    "print(response)\n",
    "get_data()"
   ]
  },
  {
   "cell_type": "code",
   "execution_count": 53,
   "metadata": {},
   "outputs": [
    {
     "name": "stdout",
     "output_type": "stream",
     "text": [
      "b'(5535553'\n"
     ]
    }
   ],
   "source": [
    "command = 'QPIGS'\n",
    "command = 'QID'\n",
    "command = 'QPIGS'\n",
    "\n",
    "xmodem_crc_func = crcmod.predefined.mkCrcFun('xmodem')\n",
    "#command_crc = command + unhexlify(hex(xmodem_crc_func(command)).replace('0x','',1)) + '\\x0d'\n",
    "a=command.encode('utf-8')\n",
    "b=unhexlify(hex(xmodem_crc_func(a)).replace('0x','',1))\n",
    "c='\\x0d'.encode('utf-8')\n",
    "type(a+b+c)\n",
    "command_crc=a+b+c\n",
    "\n",
    "os.write(fd, command_crc)\n",
    "response = ''\n",
    "response = os.read(fd, 100)\n",
    "\n",
    "#timeout_counter = 0\n",
    "#while '\\r' not in response:\n",
    "#    if timeout_counter > 500:\n",
    "#        raise Exception('Read operation timed out')\n",
    "#    timeout_counter += 1\n",
    "#    try:\n",
    "#        response += os.read(fd, 100)\n",
    "#    except Exception as e:\n",
    "#        # print(\"error reading response...: \" + str(e))\n",
    "#        time.sleep(0.01)\n",
    "#    if len(response) > 0 and response[0] != '(' or 'NAKss' in response:\n",
    "#        raise Exception('NAKss')\n",
    "\n",
    "print(response)"
   ]
  },
  {
   "cell_type": "code",
   "execution_count": 76,
   "metadata": {},
   "outputs": [
    {
     "name": "stdout",
     "output_type": "stream",
     "text": [
      "-1\n",
      "b'242.1 '\n",
      "b'22242.1 50.0 242.1 50.0 0411 0346 008 428 53.20 000 100 0048 0000 000.0 00.00 00001 00010101 00 00 00000 110'\n"
     ]
    }
   ],
   "source": [
    "# Moet response decode gebruik vir binary string\n",
    "#print(response.decode(\"utf-8\"))\n",
    "print(response[0:6].find(b'\\r'))\n",
    "print(response[0:6])\n",
    "#disconnect()\n",
    "# Dan gebruik die find funksie om die \\r te kry en skryf die while lus hierbo oor.\n",
    "a = b'22'\n",
    "a +=response\n",
    "print(a)"
   ]
  },
  {
   "cell_type": "code",
   "execution_count": 56,
   "metadata": {},
   "outputs": [
    {
     "name": "stdout",
     "output_type": "stream",
     "text": [
      "b'(241.8 50.0 241.8 50.0 0411 0335 008 428 53.20 000 100 0048 0000 000.0 00.00 00001 00010101 00 00 00000 110\\x0b\\xf6\\r\\x00\\x00'\n"
     ]
    }
   ],
   "source": [
    "xmodem_crc_func = crcmod.predefined.mkCrcFun('xmodem')\n",
    "# Original command probably worked with earlier python versions\n",
    "#command_crc = command + unhexlify(hex(xmodem_crc_func(command)).replace('0x','',1)) + '\\x0d'\n",
    "# Need to encode the commands for at least from python 3.6.\n",
    "command_a=command.encode('utf-8')\n",
    "command_b=unhexlify(hex(xmodem_crc_func(command_a)).replace('0x','',1))\n",
    "command_c='\\x0d'.encode('utf-8')\n",
    "\n",
    "command_crc = command_a + command_b + command_c\n",
    "\n",
    "os.write(fd, command_crc)\n",
    "\n",
    "response = b''\n",
    "timeout_counter = 0\n",
    "while response.find(b'\\r') < 0:\n",
    "    if timeout_counter > 500:\n",
    "        raise Exception('Read operation timed out')\n",
    "    timeout_counter += 1\n",
    "    try:\n",
    "        response += os.read(fd, 100)\n",
    "    except Exception as e:\n",
    "        # print(\"error reading response...: \" + str(e))\n",
    "        time.sleep(0.01)\n",
    "    #if len(response) > 0 and response[0] != '(' or 'NAKss' in response:\n",
    "    #    raise Exception('NAKss')\n",
    "\n",
    "print(response)"
   ]
  },
  {
   "cell_type": "code",
   "execution_count": 82,
   "metadata": {},
   "outputs": [
    {
     "name": "stdout",
     "output_type": "stream",
     "text": [
      "242.1 50.0 242.1 50.0 0411 0346 008 428 53.20 000 100 0048 0000 000.0 00.00 00001 00010101 00 00 00000 110\n",
      "{\"BusVoltage\":428.0,\"InverterHeatsinkTemperature\":48.0,\"BatteryVoltageFromScc\":0.0,\"PvInputCurrent\":0,\"PvInputVoltage\":0.0,\"PvInputPower\":0,\"BatteryChargingCurrent\": 0,\"BatteryDischargeCurrent\":1,\"DeviceStatus\":\"00010101\"}\n"
     ]
    }
   ],
   "source": [
    "#response.find(b'\\r')\n",
    "len(response)\n",
    "print(response.decode(\"utf-8\"))\n",
    "uitsetstring = response.decode(\"utf-8\")\n",
    "\n",
    "nums = uitsetstring.split(' ')\n",
    "\n",
    "data = '{'\n",
    "\n",
    "data += '\"BusVoltage\":' + str(float(nums[7]))\n",
    "data += ',\"InverterHeatsinkTemperature\":' + str(float(nums[11]))\n",
    "data += ',\"BatteryVoltageFromScc\":' + str(float(nums[14]))\n",
    "data += ',\"PvInputCurrent\":' + str(int(nums[12]))\n",
    "data += ',\"PvInputVoltage\":' + str(float(nums[13]))\n",
    "data += ',\"PvInputPower\":' + str(int(nums[19]))\n",
    "data += ',\"BatteryChargingCurrent\": ' + str(int(nums[9]))\n",
    "data += ',\"BatteryDischargeCurrent\":' + str(int(nums[15]))\n",
    "data += ',\"DeviceStatus\":\"' + nums[16] + '\"'\n",
    "\n",
    "data += '}'\n",
    "\n",
    "print(data)\n",
    "\n",
    "# Te doen:  Herskryf die bostaande module dat dit werk vir die opstelling soos dit nou \n",
    "# is met die bytestrings\n",
    "# Skryf uit na 'n leer wat presies dieselfde formaat is as die ruby program.\n",
    "# Maak seker dat die hidraw altyd selfde is.\n",
    "# Kombineer dan met battery log program.\n",
    "# Toets ook om 'n opdrag te stuur aan die inverter soos POP01"
   ]
  }
 ],
 "metadata": {
  "hide_input": false,
  "kernelspec": {
   "display_name": "Python 3",
   "language": "python",
   "name": "python3"
  },
  "language_info": {
   "codemirror_mode": {
    "name": "ipython",
    "version": 3
   },
   "file_extension": ".py",
   "mimetype": "text/x-python",
   "name": "python",
   "nbconvert_exporter": "python",
   "pygments_lexer": "ipython3",
   "version": "3.6.9"
  },
  "toc": {
   "base_numbering": 1,
   "nav_menu": {},
   "number_sections": true,
   "sideBar": true,
   "skip_h1_title": false,
   "title_cell": "Table of Contents",
   "title_sidebar": "Contents",
   "toc_cell": false,
   "toc_position": {},
   "toc_section_display": true,
   "toc_window_display": false
  },
  "varInspector": {
   "cols": {
    "lenName": 16,
    "lenType": 16,
    "lenVar": 40
   },
   "kernels_config": {
    "python": {
     "delete_cmd_postfix": "",
     "delete_cmd_prefix": "del ",
     "library": "var_list.py",
     "varRefreshCmd": "print(var_dic_list())"
    },
    "r": {
     "delete_cmd_postfix": ") ",
     "delete_cmd_prefix": "rm(",
     "library": "var_list.r",
     "varRefreshCmd": "cat(var_dic_list()) "
    }
   },
   "types_to_exclude": [
    "module",
    "function",
    "builtin_function_or_method",
    "instance",
    "_Feature"
   ],
   "window_display": false
  }
 },
 "nbformat": 4,
 "nbformat_minor": 2
}
